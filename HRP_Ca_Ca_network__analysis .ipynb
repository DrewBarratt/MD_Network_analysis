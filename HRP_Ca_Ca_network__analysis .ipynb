{
  "nbformat": 4,
  "nbformat_minor": 0,
  "metadata": {
    "colab": {
      "name": "HRP_network _analysis.ipynb",
      "provenance": [],
      "collapsed_sections": []
    },
    "kernelspec": {
      "name": "python3",
      "display_name": "Python 3"
    },
    "language_info": {
      "name": "python"
    }
  },
  "cells": [
    {
      "cell_type": "code",
      "execution_count": 16,
      "metadata": {
        "id": "d_kVRvIHUdQg"
      },
      "outputs": [],
      "source": [
        "import pandas as pd\n",
        "import numpy as np\n",
        "import os  \n",
        "un_glycos = pd.read_csv('/content/non-glycos-added-index.csv', index_col = [0])\n",
        "#un_glycos = un_glycos.drop(un_glycos.columns[[0]], axis=1)\n",
        "glycos = pd.read_csv('/content/HRP-glycos.csv', index_col = [0])\n",
        "#glycos = glycos.drop(glycos.columns[[0]], axis=1)\n",
        "un_glycos_2 = un_glycos._get_numeric_data()\n",
        "un_glycos_2[un_glycos_2 > 0.551] = np.nan\n",
        "glycos_2 = glycos._get_numeric_data()\n",
        "glycos_2[glycos_2 > 0.551] = np.nan\n",
        "unglycos_restack_2 = un_glycos_2.stack().reset_index()\n",
        "glycos_restack_2 = glycos_2.stack().reset_index()\n",
        "unglycos_restack_min_2 = unglycos_restack_2.rename(columns={0:'minDist_ungly'})\n",
        "glycos_restack_min_2 = glycos_restack_2.rename(columns={0:'minDist_gly'})\n",
        "merged_2 = pd.merge(unglycos_restack_min_2, glycos_restack_min_2, on=['level_0', 'level_1'], how='inner')\n",
        "merged_2['dist_diff'] = (merged_2['minDist_ungly'] - merged_2['minDist_gly'])\n",
        "merged_2['level_0'] = merged_2['level_0'] .astype(int)\n",
        "merged_2['level_1'] = merged_2['level_1'].astype(int)\n",
        "merged_2['Resi_dist'] = (merged_2['level_0'] - merged_2['level_1'])\n",
        "merged_2 = merged_2[merged_2.Resi_dist != 0]\n",
        "merged_2['Unique_ID_2'] = ((merged_2['level_0'] * 3.15)*(merged_2['level_1'] * 3.15))\n",
        "merged_2 = merged_2.sort_values('Unique_ID_2', ascending=False)\n",
        "merged_2 = merged_2.drop_duplicates(subset='Unique_ID_2', keep='first')\n",
        "merged_greater_than_4ang_1 = merged_2[merged_2.Resi_dist > 4]\n",
        "merged_less_than_minus4ang_1 = merged_2[merged_2.Resi_dist < -4]\n",
        "four_resi = (merged_greater_than_4ang_1, merged_less_than_minus4ang_1)\n",
        "merged_four_residues = pd.concat(four_resi)\n",
        "\n",
        "merged_2.to_csv('/content/merged_test.csv')  \n"
