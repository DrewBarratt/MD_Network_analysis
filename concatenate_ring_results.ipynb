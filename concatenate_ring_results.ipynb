{
  "nbformat": 4,
  "nbformat_minor": 0,
  "metadata": {
    "colab": {
      "name": "concatenate_ring_results.ipynb",
      "provenance": [],
      "collapsed_sections": []
    },
    "kernelspec": {
      "name": "python3",
      "display_name": "Python 3"
    },
    "language_info": {
      "name": "python"
    }
  },
  "cells": [
    {
      "cell_type": "code",
      "source": [
        "import pandas as pd\n",
        "import numpy as np\n",
        "import os\n",
        "from numpy import genfromtxt\n",
        "\n",
        "glycos = pd.read_csv('FILE1') #Glycosylated file from ring\n",
        "Unglycos = pd.read_csv('FILE2') #Unglycosylated file from ring\n",
        "glycos = glycos.rename(columns={'frequency': 'frequency_gly'})\n",
        "Unglycos = Unglycos.rename(columns={'frequency': 'frequency_ungly'})\n",
        "\n",
        "###### THIS SECTION CAN BE IMPLEMETNED TO DETERMINE THE NUMBER OF RESIDIES TO INCLUDE BETWEEN INTERACTION I.E. i+4 is can be used to exclude all interaction within 4 #####\n",
        "\n",
        "#merged_2 = pd.merge(glycos, Unglycos, on= ['source', 'target', 'interaction', 'atom1', 'atom2', 'energy', 'distance' ], how='outer')\n",
        "#merged_2 = merged_2.fillna(0)\n",
        "#merged_2['freq_diff'] = merged_2['frequency_gly'].sub(merged_2['frequency_ungly'])\n",
        "#merged_2['source_number'] = merged_2['source']\n",
        "#merged_2['source_number'] = merged_2.source_number.str.extract('(\\d+)')\n",
        "#merged_2['target_number'] = merged_2['target']\n",
        "#merged_2['target_number'] = merged_2.target_number.str.extract('(\\d+)')\n",
        "#merged_2['target_number'] = merged_2['target_number'].astype(int)\n",
        "#merged_2['source_number'] = merged_2['source_number'].astype(int)\n",
        "#merged_2['residue_difference'] = merged_2['source_number'] - merged_2['target_number']\n",
        "\n",
        "#merged_greater_than = merged_2[merged_2.residue_difference > 0]\n",
        "#merged_less_than = merged_2[merged_2.residue_difference < 0]\n",
        "#four_resi = (merged_greater_than, merged_less_than)\n",
        "#merged_four_residues = pd.concat(four_resi)\n",
        "\n",
        "glycos['extracted_source'] = glycos.source.str.extract('(\\d+)')\n",
        "glycos['extracted_target'] = glycos.target.str.extract('(\\d+)')\n",
        "glycos['extracted_source'] = glycos['extracted_source'].astype(int)\n",
        "glycos['extracted_target'] = glycos['extracted_target'].astype(int)\n",
        "glycos['uniqueID'] = ((glycos['extracted_source'] * 3.153)*(glycos['extracted_target'] * 3.153))\n",
        "\n",
        "Unglycos['extracted_source'] = Unglycos.source.str.extract('(\\d+)')\n",
        "Unglycos['extracted_target'] = Unglycos.target.str.extract('(\\d+)')\n",
        "Unglycos['extracted_source'] = Unglycos['extracted_source'].astype(int)\n",
        "Unglycos['extracted_target'] = Unglycos['extracted_target'].astype(int)\n",
        "Unglycos['uniqueID'] = ((Unglycos['extracted_source'] * 3.153)*(Unglycos['extracted_target'] * 3.153))\n",
        "\n",
        "merged3 = pd.merge(glycos, Unglycos, on= ['extracted_source', 'extracted_target', 'interaction', 'atom1', 'atom2'], how='inner')\n",
        "merged3['freq_diff'] = merged3['frequency_ungly'] - (merged3['frequency_gly'])\n",
        "\n",
        "merged3_less_than_minues_10 = merged3[merged3.freq_diff < -0.1] #remove frequncies below -10% change\n",
        "merged3_less_than_plus_10 = merged3[merged3.freq_diff > 0.1] #remove frequncies below +10% change\n",
        "greater_than_10_diff = (merged3_less_than_minues_10,merged3_less_than_plus_10)\n",
        "\n",
        "Nodes_and_edges_greater_than_10_percent_difference_in_frequency = pd.concat(greater_than_10_diff)\n",
        "Nodes_and_edges_greater_than_10_percent_difference_in_frequency.to_csv('/content/concatenated_ring_results.csv')"
      ],
      "metadata": {
        "id": "hIceGWmvOZRu"
      },
      "execution_count": 49,
      "outputs": []
    },
    {
      "cell_type": "code",
      "source": [
        ""
      ],
      "metadata": {
        "id": "FvKcki083t9A"
      },
      "execution_count": null,
      "outputs": []
    }
  ]
}
